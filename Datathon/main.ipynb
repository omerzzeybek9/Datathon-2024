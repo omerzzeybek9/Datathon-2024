{
 "cells": [
  {
   "cell_type": "code",
   "execution_count": 1,
   "metadata": {},
   "outputs": [],
   "source": [
    "import numpy as np\n",
    "import pandas as pd"
   ]
  },
  {
   "cell_type": "code",
   "execution_count": 2,
   "metadata": {},
   "outputs": [],
   "source": [
    "from datetime import datetime"
   ]
  },
  {
   "cell_type": "code",
   "execution_count": 3,
   "metadata": {},
   "outputs": [
    {
     "name": "stderr",
     "output_type": "stream",
     "text": [
      "C:\\Users\\omerf\\AppData\\Local\\Temp\\ipykernel_15036\\1819530430.py:1: DtypeWarning: Columns (13,15,19,30,32,37,41,42) have mixed types. Specify dtype option on import or set low_memory=False.\n",
      "  train_df = pd.read_csv(\"train.csv\")\n"
     ]
    }
   ],
   "source": [
    "train_df = pd.read_csv(\"train.csv\")\n",
    "test_df = pd.read_csv(\"test_x.csv\")"
   ]
  },
  {
   "cell_type": "code",
   "execution_count": 4,
   "metadata": {},
   "outputs": [
    {
     "data": {
      "text/html": [
       "<div>\n",
       "<style scoped>\n",
       "    .dataframe tbody tr th:only-of-type {\n",
       "        vertical-align: middle;\n",
       "    }\n",
       "\n",
       "    .dataframe tbody tr th {\n",
       "        vertical-align: top;\n",
       "    }\n",
       "\n",
       "    .dataframe thead th {\n",
       "        text-align: right;\n",
       "    }\n",
       "</style>\n",
       "<table border=\"1\" class=\"dataframe\">\n",
       "  <thead>\n",
       "    <tr style=\"text-align: right;\">\n",
       "      <th></th>\n",
       "      <th>Basvuru Yili</th>\n",
       "      <th>Degerlendirme Puani</th>\n",
       "      <th>Cinsiyet</th>\n",
       "      <th>Dogum Tarihi</th>\n",
       "      <th>Dogum Yeri</th>\n",
       "      <th>Ikametgah Sehri</th>\n",
       "      <th>Universite Adi</th>\n",
       "      <th>Universite Turu</th>\n",
       "      <th>Burslu ise Burs Yuzdesi</th>\n",
       "      <th>Burs Aliyor mu?</th>\n",
       "      <th>...</th>\n",
       "      <th>Spor Dalindaki Rolunuz Nedir?</th>\n",
       "      <th>Aktif olarak bir STK üyesi misiniz?</th>\n",
       "      <th>Hangi STK'nin Uyesisiniz?</th>\n",
       "      <th>Stk Projesine Katildiniz Mi?</th>\n",
       "      <th>Girisimcilikle Ilgili Deneyiminiz Var Mi?</th>\n",
       "      <th>Girisimcilikle Ilgili Deneyiminizi Aciklayabilir misiniz?</th>\n",
       "      <th>Ingilizce Biliyor musunuz?</th>\n",
       "      <th>Ingilizce Seviyeniz?</th>\n",
       "      <th>Daha Önceden Mezun Olunduysa, Mezun Olunan Üniversite</th>\n",
       "      <th>id</th>\n",
       "    </tr>\n",
       "  </thead>\n",
       "  <tbody>\n",
       "    <tr>\n",
       "      <th>0</th>\n",
       "      <td>2014</td>\n",
       "      <td>52.0</td>\n",
       "      <td>Erkek</td>\n",
       "      <td>4/6/1994</td>\n",
       "      <td>Altindag, Ankara</td>\n",
       "      <td>Ankara</td>\n",
       "      <td>İHSAN DOĞRAMACI BİLKENT</td>\n",
       "      <td>Özel</td>\n",
       "      <td>100.0</td>\n",
       "      <td>Evet</td>\n",
       "      <td>...</td>\n",
       "      <td>Diğer</td>\n",
       "      <td>Hayır</td>\n",
       "      <td>NaN</td>\n",
       "      <td>Evet</td>\n",
       "      <td>Hayır</td>\n",
       "      <td>NaN</td>\n",
       "      <td>NaN</td>\n",
       "      <td>NaN</td>\n",
       "      <td>NaN</td>\n",
       "      <td>0</td>\n",
       "    </tr>\n",
       "    <tr>\n",
       "      <th>1</th>\n",
       "      <td>2014</td>\n",
       "      <td>30.0</td>\n",
       "      <td>Erkek</td>\n",
       "      <td>6/11/1993</td>\n",
       "      <td>Üsküdar</td>\n",
       "      <td>İstanbul</td>\n",
       "      <td>İHSAN DOĞRAMACI BİLKENT</td>\n",
       "      <td>Özel</td>\n",
       "      <td>100.0</td>\n",
       "      <td>Hayır</td>\n",
       "      <td>...</td>\n",
       "      <td>0</td>\n",
       "      <td>Hayır</td>\n",
       "      <td>NaN</td>\n",
       "      <td>Evet</td>\n",
       "      <td>Evet</td>\n",
       "      <td>Bilkent Cyberparkta bir şirkette Türkiye nin i...</td>\n",
       "      <td>NaN</td>\n",
       "      <td>NaN</td>\n",
       "      <td>NaN</td>\n",
       "      <td>1</td>\n",
       "    </tr>\n",
       "    <tr>\n",
       "      <th>2</th>\n",
       "      <td>2014</td>\n",
       "      <td>18.0</td>\n",
       "      <td>Erkek</td>\n",
       "      <td>1/15/1986</td>\n",
       "      <td>Samsun</td>\n",
       "      <td>İstanbul</td>\n",
       "      <td>ULUSLARARASI KIBRIS ÜNİVERSİTESİ</td>\n",
       "      <td>Özel</td>\n",
       "      <td>100.0</td>\n",
       "      <td>Hayır</td>\n",
       "      <td>...</td>\n",
       "      <td>0</td>\n",
       "      <td>Hayır</td>\n",
       "      <td>NaN</td>\n",
       "      <td>Hayır</td>\n",
       "      <td>Hayır</td>\n",
       "      <td>NaN</td>\n",
       "      <td>NaN</td>\n",
       "      <td>NaN</td>\n",
       "      <td>NaN</td>\n",
       "      <td>2</td>\n",
       "    </tr>\n",
       "    <tr>\n",
       "      <th>3</th>\n",
       "      <td>2014</td>\n",
       "      <td>40.0</td>\n",
       "      <td>Erkek</td>\n",
       "      <td>6/4/1991</td>\n",
       "      <td>Diyarbakır</td>\n",
       "      <td>İstanbul</td>\n",
       "      <td>İSTANBUL ŞEHİR ÜNİVERSİTESİ</td>\n",
       "      <td>Özel</td>\n",
       "      <td>100.0</td>\n",
       "      <td>Evet</td>\n",
       "      <td>...</td>\n",
       "      <td>0</td>\n",
       "      <td>Hayır</td>\n",
       "      <td>NaN</td>\n",
       "      <td>Evet</td>\n",
       "      <td>Hayır</td>\n",
       "      <td>NaN</td>\n",
       "      <td>NaN</td>\n",
       "      <td>NaN</td>\n",
       "      <td>NaN</td>\n",
       "      <td>3</td>\n",
       "    </tr>\n",
       "    <tr>\n",
       "      <th>4</th>\n",
       "      <td>2014</td>\n",
       "      <td>24.0</td>\n",
       "      <td>Erkek</td>\n",
       "      <td>2 Kasim 1992</td>\n",
       "      <td>Ankara/Altındağ</td>\n",
       "      <td>Ankara</td>\n",
       "      <td>TURGUT ÖZAL ÜNİVERSİTESİ</td>\n",
       "      <td>Özel</td>\n",
       "      <td>100.0</td>\n",
       "      <td>Evet</td>\n",
       "      <td>...</td>\n",
       "      <td>0</td>\n",
       "      <td>Hayır</td>\n",
       "      <td>NaN</td>\n",
       "      <td>Hayır</td>\n",
       "      <td>Hayır</td>\n",
       "      <td>NaN</td>\n",
       "      <td>NaN</td>\n",
       "      <td>NaN</td>\n",
       "      <td>NaN</td>\n",
       "      <td>4</td>\n",
       "    </tr>\n",
       "  </tbody>\n",
       "</table>\n",
       "<p>5 rows × 44 columns</p>\n",
       "</div>"
      ],
      "text/plain": [
       "   Basvuru Yili  Degerlendirme Puani Cinsiyet  Dogum Tarihi        Dogum Yeri  \\\n",
       "0          2014                 52.0    Erkek      4/6/1994  Altindag, Ankara   \n",
       "1          2014                 30.0    Erkek     6/11/1993           Üsküdar   \n",
       "2          2014                 18.0    Erkek     1/15/1986            Samsun   \n",
       "3          2014                 40.0    Erkek      6/4/1991        Diyarbakır   \n",
       "4          2014                 24.0    Erkek  2 Kasim 1992   Ankara/Altındağ   \n",
       "\n",
       "  Ikametgah Sehri                    Universite Adi Universite Turu  \\\n",
       "0          Ankara           İHSAN DOĞRAMACI BİLKENT            Özel   \n",
       "1        İstanbul           İHSAN DOĞRAMACI BİLKENT            Özel   \n",
       "2        İstanbul  ULUSLARARASI KIBRIS ÜNİVERSİTESİ            Özel   \n",
       "3        İstanbul       İSTANBUL ŞEHİR ÜNİVERSİTESİ            Özel   \n",
       "4          Ankara          TURGUT ÖZAL ÜNİVERSİTESİ            Özel   \n",
       "\n",
       "   Burslu ise Burs Yuzdesi Burs Aliyor mu?  ... Spor Dalindaki Rolunuz Nedir?  \\\n",
       "0                    100.0            Evet  ...                         Diğer   \n",
       "1                    100.0           Hayır  ...                             0   \n",
       "2                    100.0           Hayır  ...                             0   \n",
       "3                    100.0            Evet  ...                             0   \n",
       "4                    100.0            Evet  ...                             0   \n",
       "\n",
       "  Aktif olarak bir STK üyesi misiniz? Hangi STK'nin Uyesisiniz?  \\\n",
       "0                               Hayır                       NaN   \n",
       "1                               Hayır                       NaN   \n",
       "2                               Hayır                       NaN   \n",
       "3                               Hayır                       NaN   \n",
       "4                               Hayır                       NaN   \n",
       "\n",
       "  Stk Projesine Katildiniz Mi? Girisimcilikle Ilgili Deneyiminiz Var Mi?  \\\n",
       "0                         Evet                                     Hayır   \n",
       "1                         Evet                                      Evet   \n",
       "2                        Hayır                                     Hayır   \n",
       "3                         Evet                                     Hayır   \n",
       "4                        Hayır                                     Hayır   \n",
       "\n",
       "  Girisimcilikle Ilgili Deneyiminizi Aciklayabilir misiniz?  \\\n",
       "0                                                NaN          \n",
       "1  Bilkent Cyberparkta bir şirkette Türkiye nin i...          \n",
       "2                                                NaN          \n",
       "3                                                NaN          \n",
       "4                                                NaN          \n",
       "\n",
       "  Ingilizce Biliyor musunuz? Ingilizce Seviyeniz?  \\\n",
       "0                        NaN                  NaN   \n",
       "1                        NaN                  NaN   \n",
       "2                        NaN                  NaN   \n",
       "3                        NaN                  NaN   \n",
       "4                        NaN                  NaN   \n",
       "\n",
       "  Daha Önceden Mezun Olunduysa, Mezun Olunan Üniversite id  \n",
       "0                                                NaN     0  \n",
       "1                                                NaN     1  \n",
       "2                                                NaN     2  \n",
       "3                                                NaN     3  \n",
       "4                                                NaN     4  \n",
       "\n",
       "[5 rows x 44 columns]"
      ]
     },
     "execution_count": 4,
     "metadata": {},
     "output_type": "execute_result"
    }
   ],
   "source": [
    "train_df.head()"
   ]
  },
  {
   "cell_type": "code",
   "execution_count": 5,
   "metadata": {},
   "outputs": [
    {
     "data": {
      "text/html": [
       "<div>\n",
       "<style scoped>\n",
       "    .dataframe tbody tr th:only-of-type {\n",
       "        vertical-align: middle;\n",
       "    }\n",
       "\n",
       "    .dataframe tbody tr th {\n",
       "        vertical-align: top;\n",
       "    }\n",
       "\n",
       "    .dataframe thead th {\n",
       "        text-align: right;\n",
       "    }\n",
       "</style>\n",
       "<table border=\"1\" class=\"dataframe\">\n",
       "  <thead>\n",
       "    <tr style=\"text-align: right;\">\n",
       "      <th></th>\n",
       "      <th>Basvuru Yili</th>\n",
       "      <th>Cinsiyet</th>\n",
       "      <th>Dogum Tarihi</th>\n",
       "      <th>Dogum Yeri</th>\n",
       "      <th>Ikametgah Sehri</th>\n",
       "      <th>Universite Adi</th>\n",
       "      <th>Universite Turu</th>\n",
       "      <th>Burslu ise Burs Yuzdesi</th>\n",
       "      <th>Burs Aliyor mu?</th>\n",
       "      <th>Bölüm</th>\n",
       "      <th>...</th>\n",
       "      <th>Spor Dalindaki Rolunuz Nedir?</th>\n",
       "      <th>Aktif olarak bir STK üyesi misiniz?</th>\n",
       "      <th>Hangi STK'nin Uyesisiniz?</th>\n",
       "      <th>Stk Projesine Katildiniz Mi?</th>\n",
       "      <th>Girisimcilikle Ilgili Deneyiminiz Var Mi?</th>\n",
       "      <th>Girisimcilikle Ilgili Deneyiminizi Aciklayabilir misiniz?</th>\n",
       "      <th>Ingilizce Biliyor musunuz?</th>\n",
       "      <th>Ingilizce Seviyeniz?</th>\n",
       "      <th>Daha Önceden Mezun Olunduysa, Mezun Olunan Üniversite</th>\n",
       "      <th>id</th>\n",
       "    </tr>\n",
       "  </thead>\n",
       "  <tbody>\n",
       "    <tr>\n",
       "      <th>0</th>\n",
       "      <td>2023</td>\n",
       "      <td>Kadın</td>\n",
       "      <td>21.06.2002 00:00</td>\n",
       "      <td>Amasya</td>\n",
       "      <td>Amasya</td>\n",
       "      <td>Munzur Üniversitesi</td>\n",
       "      <td>Devlet</td>\n",
       "      <td>NaN</td>\n",
       "      <td>Hayır</td>\n",
       "      <td>Sosyal Hizmet</td>\n",
       "      <td>...</td>\n",
       "      <td>Takım Oyuncusu</td>\n",
       "      <td>Evet</td>\n",
       "      <td>Kızılay da gönüllü dağıtım</td>\n",
       "      <td>NaN</td>\n",
       "      <td>Hayır</td>\n",
       "      <td>-</td>\n",
       "      <td>Evet</td>\n",
       "      <td>NaN</td>\n",
       "      <td>NaN</td>\n",
       "      <td>0</td>\n",
       "    </tr>\n",
       "    <tr>\n",
       "      <th>1</th>\n",
       "      <td>2023</td>\n",
       "      <td>Kadın</td>\n",
       "      <td>11.05.2004 00:00</td>\n",
       "      <td>Konya</td>\n",
       "      <td>Konya</td>\n",
       "      <td>Hacettepe Üniversitesi</td>\n",
       "      <td>Devlet</td>\n",
       "      <td>NaN</td>\n",
       "      <td>Hayır</td>\n",
       "      <td>Uluslararası İlişkiler</td>\n",
       "      <td>...</td>\n",
       "      <td>Bireysel Spor</td>\n",
       "      <td>Hayır</td>\n",
       "      <td>-</td>\n",
       "      <td>NaN</td>\n",
       "      <td>Hayır</td>\n",
       "      <td>-</td>\n",
       "      <td>Evet</td>\n",
       "      <td>NaN</td>\n",
       "      <td>NaN</td>\n",
       "      <td>1</td>\n",
       "    </tr>\n",
       "    <tr>\n",
       "      <th>2</th>\n",
       "      <td>2023</td>\n",
       "      <td>Erkek</td>\n",
       "      <td>24.04.2002 00:00</td>\n",
       "      <td>İstanbul</td>\n",
       "      <td>İstanbul</td>\n",
       "      <td>Kapadokya Üniversitesi</td>\n",
       "      <td>Özel</td>\n",
       "      <td>NaN</td>\n",
       "      <td>Evet</td>\n",
       "      <td>Diğer</td>\n",
       "      <td>...</td>\n",
       "      <td>Bireysel Spor</td>\n",
       "      <td>Hayır</td>\n",
       "      <td>-</td>\n",
       "      <td>NaN</td>\n",
       "      <td>Hayır</td>\n",
       "      <td>-</td>\n",
       "      <td>Evet</td>\n",
       "      <td>NaN</td>\n",
       "      <td>NaN</td>\n",
       "      <td>2</td>\n",
       "    </tr>\n",
       "    <tr>\n",
       "      <th>3</th>\n",
       "      <td>2023</td>\n",
       "      <td>Erkek</td>\n",
       "      <td>11.03.2003 00:00</td>\n",
       "      <td>Mardin</td>\n",
       "      <td>Mardin</td>\n",
       "      <td>Mardin Artuklu Üniversitesi</td>\n",
       "      <td>Devlet</td>\n",
       "      <td>NaN</td>\n",
       "      <td>Hayır</td>\n",
       "      <td>İslami İlimler</td>\n",
       "      <td>...</td>\n",
       "      <td>-</td>\n",
       "      <td>Evet</td>\n",
       "      <td>Lise gezilerde liderlik yapıyordum</td>\n",
       "      <td>NaN</td>\n",
       "      <td>Hayır</td>\n",
       "      <td>-</td>\n",
       "      <td>Hayır</td>\n",
       "      <td>NaN</td>\n",
       "      <td>NaN</td>\n",
       "      <td>3</td>\n",
       "    </tr>\n",
       "    <tr>\n",
       "      <th>4</th>\n",
       "      <td>2023</td>\n",
       "      <td>Erkek</td>\n",
       "      <td>26.01.2002 00:00</td>\n",
       "      <td>Samsun</td>\n",
       "      <td>İstanbul</td>\n",
       "      <td>Boğaziçi Üniversitesi</td>\n",
       "      <td>Devlet</td>\n",
       "      <td>NaN</td>\n",
       "      <td>Hayır</td>\n",
       "      <td>İşletme</td>\n",
       "      <td>...</td>\n",
       "      <td>-</td>\n",
       "      <td>Evet</td>\n",
       "      <td>Toplum Gönüllüleri Vakfı'nda \"Yol Arkadaşım\" P...</td>\n",
       "      <td>NaN</td>\n",
       "      <td>Evet</td>\n",
       "      <td>12 aydır, yolculuğuna bir yıl önce başlamış ol...</td>\n",
       "      <td>Evet</td>\n",
       "      <td>NaN</td>\n",
       "      <td>NaN</td>\n",
       "      <td>4</td>\n",
       "    </tr>\n",
       "  </tbody>\n",
       "</table>\n",
       "<p>5 rows × 43 columns</p>\n",
       "</div>"
      ],
      "text/plain": [
       "   Basvuru Yili Cinsiyet      Dogum Tarihi Dogum Yeri Ikametgah Sehri  \\\n",
       "0          2023    Kadın  21.06.2002 00:00     Amasya          Amasya   \n",
       "1          2023    Kadın  11.05.2004 00:00      Konya           Konya   \n",
       "2          2023    Erkek  24.04.2002 00:00   İstanbul        İstanbul   \n",
       "3          2023    Erkek  11.03.2003 00:00     Mardin          Mardin   \n",
       "4          2023    Erkek  26.01.2002 00:00     Samsun        İstanbul   \n",
       "\n",
       "                Universite Adi Universite Turu  Burslu ise Burs Yuzdesi  \\\n",
       "0          Munzur Üniversitesi          Devlet                      NaN   \n",
       "1       Hacettepe Üniversitesi          Devlet                      NaN   \n",
       "2       Kapadokya Üniversitesi            Özel                      NaN   \n",
       "3  Mardin Artuklu Üniversitesi          Devlet                      NaN   \n",
       "4        Boğaziçi Üniversitesi          Devlet                      NaN   \n",
       "\n",
       "  Burs Aliyor mu?                   Bölüm  ... Spor Dalindaki Rolunuz Nedir?  \\\n",
       "0           Hayır           Sosyal Hizmet  ...                Takım Oyuncusu   \n",
       "1           Hayır  Uluslararası İlişkiler  ...                 Bireysel Spor   \n",
       "2            Evet                   Diğer  ...                 Bireysel Spor   \n",
       "3           Hayır          İslami İlimler  ...                             -   \n",
       "4           Hayır                 İşletme  ...                             -   \n",
       "\n",
       "  Aktif olarak bir STK üyesi misiniz?  \\\n",
       "0                                Evet   \n",
       "1                               Hayır   \n",
       "2                               Hayır   \n",
       "3                                Evet   \n",
       "4                                Evet   \n",
       "\n",
       "                           Hangi STK'nin Uyesisiniz?  \\\n",
       "0                         Kızılay da gönüllü dağıtım   \n",
       "1                                                  -   \n",
       "2                                                  -   \n",
       "3                 Lise gezilerde liderlik yapıyordum   \n",
       "4  Toplum Gönüllüleri Vakfı'nda \"Yol Arkadaşım\" P...   \n",
       "\n",
       "  Stk Projesine Katildiniz Mi?  Girisimcilikle Ilgili Deneyiminiz Var Mi?  \\\n",
       "0                          NaN                                      Hayır   \n",
       "1                          NaN                                      Hayır   \n",
       "2                          NaN                                      Hayır   \n",
       "3                          NaN                                      Hayır   \n",
       "4                          NaN                                       Evet   \n",
       "\n",
       "  Girisimcilikle Ilgili Deneyiminizi Aciklayabilir misiniz?  \\\n",
       "0                                                  -          \n",
       "1                                                  -          \n",
       "2                                                  -          \n",
       "3                                                  -          \n",
       "4  12 aydır, yolculuğuna bir yıl önce başlamış ol...          \n",
       "\n",
       "  Ingilizce Biliyor musunuz? Ingilizce Seviyeniz?  \\\n",
       "0                       Evet                  NaN   \n",
       "1                       Evet                  NaN   \n",
       "2                       Evet                  NaN   \n",
       "3                      Hayır                  NaN   \n",
       "4                       Evet                  NaN   \n",
       "\n",
       "   Daha Önceden Mezun Olunduysa, Mezun Olunan Üniversite id  \n",
       "0                                                NaN      0  \n",
       "1                                                NaN      1  \n",
       "2                                                NaN      2  \n",
       "3                                                NaN      3  \n",
       "4                                                NaN      4  \n",
       "\n",
       "[5 rows x 43 columns]"
      ]
     },
     "execution_count": 5,
     "metadata": {},
     "output_type": "execute_result"
    }
   ],
   "source": [
    "test_df.head()"
   ]
  },
  {
   "cell_type": "code",
   "execution_count": 6,
   "metadata": {},
   "outputs": [
    {
     "data": {
      "text/plain": [
       "Index(['Basvuru Yili', 'Degerlendirme Puani', 'Cinsiyet', 'Dogum Tarihi',\n",
       "       'Dogum Yeri', 'Ikametgah Sehri', 'Universite Adi', 'Universite Turu',\n",
       "       'Burslu ise Burs Yuzdesi', 'Burs Aliyor mu?', 'Bölüm',\n",
       "       'Universite Kacinci Sinif', 'Universite Not Ortalamasi',\n",
       "       'Daha Once Baska Bir Universiteden Mezun Olmus', 'Lise Adi',\n",
       "       'Lise Adi Diger', 'Lise Sehir', 'Lise Turu', 'Lise Bolumu',\n",
       "       'Lise Bolum Diger', 'Lise Mezuniyet Notu',\n",
       "       'Baska Bir Kurumdan Burs Aliyor mu?', 'Burs Aldigi Baska Kurum',\n",
       "       'Baska Kurumdan Aldigi Burs Miktari', 'Anne Egitim Durumu',\n",
       "       'Anne Calisma Durumu', 'Anne Sektor', 'Baba Egitim Durumu',\n",
       "       'Baba Calisma Durumu', 'Baba Sektor', 'Kardes Sayisi',\n",
       "       'Girisimcilik Kulupleri Tarzi Bir Kulube Uye misiniz?',\n",
       "       'Uye Oldugunuz Kulubun Ismi',\n",
       "       'Profesyonel Bir Spor Daliyla Mesgul musunuz?',\n",
       "       'Spor Dalindaki Rolunuz Nedir?', 'Aktif olarak bir STK üyesi misiniz?',\n",
       "       'Hangi STK'nin Uyesisiniz?', 'Stk Projesine Katildiniz Mi?',\n",
       "       'Girisimcilikle Ilgili Deneyiminiz Var Mi?',\n",
       "       'Girisimcilikle Ilgili Deneyiminizi Aciklayabilir misiniz?',\n",
       "       'Ingilizce Biliyor musunuz?', 'Ingilizce Seviyeniz?',\n",
       "       'Daha Önceden Mezun Olunduysa, Mezun Olunan Üniversite', 'id'],\n",
       "      dtype='object')"
      ]
     },
     "execution_count": 6,
     "metadata": {},
     "output_type": "execute_result"
    }
   ],
   "source": [
    "train_df.columns"
   ]
  },
  {
   "cell_type": "code",
   "execution_count": 7,
   "metadata": {},
   "outputs": [
    {
     "data": {
      "text/plain": [
       "Basvuru Yili                                                     0\n",
       "Degerlendirme Puani                                              1\n",
       "Cinsiyet                                                       169\n",
       "Dogum Tarihi                                                   177\n",
       "Dogum Yeri                                                     791\n",
       "Ikametgah Sehri                                               2037\n",
       "Universite Adi                                                 132\n",
       "Universite Turu                                                255\n",
       "Burslu ise Burs Yuzdesi                                      42685\n",
       "Burs Aliyor mu?                                                  0\n",
       "Bölüm                                                          231\n",
       "Universite Kacinci Sinif                                       374\n",
       "Universite Not Ortalamasi                                     2753\n",
       "Daha Once Baska Bir Universiteden Mezun Olmus                37345\n",
       "Lise Adi                                                       384\n",
       "Lise Adi Diger                                               60392\n",
       "Lise Sehir                                                    1054\n",
       "Lise Turu                                                      847\n",
       "Lise Bolumu                                                   1009\n",
       "Lise Bolum Diger                                             63599\n",
       "Lise Mezuniyet Notu                                           5917\n",
       "Baska Bir Kurumdan Burs Aliyor mu?                             231\n",
       "Burs Aldigi Baska Kurum                                      43977\n",
       "Baska Kurumdan Aldigi Burs Miktari                           44162\n",
       "Anne Egitim Durumu                                             406\n",
       "Anne Calisma Durumu                                          11896\n",
       "Anne Sektor                                                  34537\n",
       "Baba Egitim Durumu                                            1007\n",
       "Baba Calisma Durumu                                          12618\n",
       "Baba Sektor                                                  20378\n",
       "Kardes Sayisi                                                 1132\n",
       "Girisimcilik Kulupleri Tarzi Bir Kulube Uye misiniz?          1829\n",
       "Uye Oldugunuz Kulubun Ismi                                   48691\n",
       "Profesyonel Bir Spor Daliyla Mesgul musunuz?                  1115\n",
       "Spor Dalindaki Rolunuz Nedir?                                32275\n",
       "Aktif olarak bir STK üyesi misiniz?                          12842\n",
       "Hangi STK'nin Uyesisiniz?                                    49518\n",
       "Stk Projesine Katildiniz Mi?                                 28308\n",
       "Girisimcilikle Ilgili Deneyiminiz Var Mi?                    12840\n",
       "Girisimcilikle Ilgili Deneyiminizi Aciklayabilir misiniz?    50526\n",
       "Ingilizce Biliyor musunuz?                                    6454\n",
       "Ingilizce Seviyeniz?                                         36533\n",
       "Daha Önceden Mezun Olunduysa, Mezun Olunan Üniversite        64706\n",
       "id                                                               0\n",
       "dtype: int64"
      ]
     },
     "execution_count": 7,
     "metadata": {},
     "output_type": "execute_result"
    }
   ],
   "source": [
    "train_df.isnull().sum()"
   ]
  },
  {
   "cell_type": "code",
   "execution_count": 8,
   "metadata": {},
   "outputs": [
    {
     "data": {
      "text/plain": [
       "Basvuru Yili                                                     0\n",
       "Cinsiyet                                                         0\n",
       "Dogum Tarihi                                                     0\n",
       "Dogum Yeri                                                       0\n",
       "Ikametgah Sehri                                                  0\n",
       "Universite Adi                                                   0\n",
       "Universite Turu                                                  0\n",
       "Burslu ise Burs Yuzdesi                                      11049\n",
       "Burs Aliyor mu?                                                  0\n",
       "Bölüm                                                            0\n",
       "Universite Kacinci Sinif                                         0\n",
       "Universite Not Ortalamasi                                        0\n",
       "Daha Once Baska Bir Universiteden Mezun Olmus                11049\n",
       "Lise Adi                                                         0\n",
       "Lise Adi Diger                                               11049\n",
       "Lise Sehir                                                       0\n",
       "Lise Turu                                                        0\n",
       "Lise Bolumu                                                      0\n",
       "Lise Bolum Diger                                             11049\n",
       "Lise Mezuniyet Notu                                              0\n",
       "Baska Bir Kurumdan Burs Aliyor mu?                               0\n",
       "Burs Aldigi Baska Kurum                                          0\n",
       "Baska Kurumdan Aldigi Burs Miktari                               0\n",
       "Anne Egitim Durumu                                               0\n",
       "Anne Calisma Durumu                                              0\n",
       "Anne Sektor                                                      0\n",
       "Baba Egitim Durumu                                               0\n",
       "Baba Calisma Durumu                                              0\n",
       "Baba Sektor                                                      0\n",
       "Kardes Sayisi                                                    0\n",
       "Girisimcilik Kulupleri Tarzi Bir Kulube Uye misiniz?             0\n",
       "Uye Oldugunuz Kulubun Ismi                                   11049\n",
       "Profesyonel Bir Spor Daliyla Mesgul musunuz?                     0\n",
       "Spor Dalindaki Rolunuz Nedir?                                    0\n",
       "Aktif olarak bir STK üyesi misiniz?                              0\n",
       "Hangi STK'nin Uyesisiniz?                                        0\n",
       "Stk Projesine Katildiniz Mi?                                 11049\n",
       "Girisimcilikle Ilgili Deneyiminiz Var Mi?                        0\n",
       "Girisimcilikle Ilgili Deneyiminizi Aciklayabilir misiniz?        0\n",
       "Ingilizce Biliyor musunuz?                                       0\n",
       "Ingilizce Seviyeniz?                                         11049\n",
       "Daha Önceden Mezun Olunduysa, Mezun Olunan Üniversite        11049\n",
       "id                                                               0\n",
       "dtype: int64"
      ]
     },
     "execution_count": 8,
     "metadata": {},
     "output_type": "execute_result"
    }
   ],
   "source": [
    "test_df.isnull().sum()"
   ]
  },
  {
   "cell_type": "code",
   "execution_count": 9,
   "metadata": {},
   "outputs": [],
   "source": [
    "train_df['Dogum Tarihi'] = pd.to_datetime(train_df['Dogum Tarihi'], errors='coerce', dayfirst=True)"
   ]
  },
  {
   "cell_type": "code",
   "execution_count": 10,
   "metadata": {},
   "outputs": [],
   "source": [
    "train_df['Yas'] = train_df['Basvuru Yili'] - train_df['Dogum Tarihi'].dt.year"
   ]
  },
  {
   "cell_type": "code",
   "execution_count": 11,
   "metadata": {},
   "outputs": [],
   "source": [
    "test_df[\"Dogum Tarihi\"] = pd.to_datetime(test_df[\"Dogum Tarihi\"], errors = \"coerce\", dayfirst=True)"
   ]
  },
  {
   "cell_type": "code",
   "execution_count": 12,
   "metadata": {},
   "outputs": [],
   "source": [
    "test_df['Yas'] = test_df['Basvuru Yili'] - test_df['Dogum Tarihi'].dt.year"
   ]
  },
  {
   "cell_type": "code",
   "execution_count": 13,
   "metadata": {},
   "outputs": [],
   "source": [
    "train_df.drop(columns=[\"Basvuru Yili\",\"Cinsiyet\", \"Dogum Yeri\", \"Lise Sehir\", \"Burslu ise Burs Yuzdesi\", \"Daha Once Baska Bir Universiteden Mezun Olmus\", \"Lise Adi Diger\", \"Lise Bolum Diger\", \"Uye Oldugunuz Kulubun Ismi\", \"Stk Projesine Katildiniz Mi?\", \"Ingilizce Seviyeniz?\", \"Daha Önceden Mezun Olunduysa, Mezun Olunan Üniversite\"], inplace=True)"
   ]
  },
  {
   "cell_type": "code",
   "execution_count": 14,
   "metadata": {},
   "outputs": [
    {
     "data": {
      "text/plain": [
       "Degerlendirme Puani                                              1\n",
       "Dogum Tarihi                                                 49930\n",
       "Ikametgah Sehri                                               2037\n",
       "Universite Adi                                                 132\n",
       "Universite Turu                                                255\n",
       "Burs Aliyor mu?                                                  0\n",
       "Bölüm                                                          231\n",
       "Universite Kacinci Sinif                                       374\n",
       "Universite Not Ortalamasi                                     2753\n",
       "Lise Adi                                                       384\n",
       "Lise Turu                                                      847\n",
       "Lise Bolumu                                                   1009\n",
       "Lise Mezuniyet Notu                                           5917\n",
       "Baska Bir Kurumdan Burs Aliyor mu?                             231\n",
       "Burs Aldigi Baska Kurum                                      43977\n",
       "Baska Kurumdan Aldigi Burs Miktari                           44162\n",
       "Anne Egitim Durumu                                             406\n",
       "Anne Calisma Durumu                                          11896\n",
       "Anne Sektor                                                  34537\n",
       "Baba Egitim Durumu                                            1007\n",
       "Baba Calisma Durumu                                          12618\n",
       "Baba Sektor                                                  20378\n",
       "Kardes Sayisi                                                 1132\n",
       "Girisimcilik Kulupleri Tarzi Bir Kulube Uye misiniz?          1829\n",
       "Profesyonel Bir Spor Daliyla Mesgul musunuz?                  1115\n",
       "Spor Dalindaki Rolunuz Nedir?                                32275\n",
       "Aktif olarak bir STK üyesi misiniz?                          12842\n",
       "Hangi STK'nin Uyesisiniz?                                    49518\n",
       "Girisimcilikle Ilgili Deneyiminiz Var Mi?                    12840\n",
       "Girisimcilikle Ilgili Deneyiminizi Aciklayabilir misiniz?    50526\n",
       "Ingilizce Biliyor musunuz?                                    6454\n",
       "id                                                               0\n",
       "Yas                                                          49930\n",
       "dtype: int64"
      ]
     },
     "execution_count": 14,
     "metadata": {},
     "output_type": "execute_result"
    }
   ],
   "source": [
    "train_df.isna().sum()"
   ]
  },
  {
   "cell_type": "code",
   "execution_count": 15,
   "metadata": {},
   "outputs": [
    {
     "name": "stderr",
     "output_type": "stream",
     "text": [
      "C:\\Users\\omerf\\AppData\\Local\\Temp\\ipykernel_15036\\2860919310.py:2: FutureWarning: A value is trying to be set on a copy of a DataFrame or Series through chained assignment using an inplace method.\n",
      "The behavior will change in pandas 3.0. This inplace method will never work because the intermediate object on which we are setting values always behaves as a copy.\n",
      "\n",
      "For example, when doing 'df[col].method(value, inplace=True)', try using 'df.method({col: value}, inplace=True)' or df[col] = df[col].method(value) instead, to perform the operation inplace on the original object.\n",
      "\n",
      "\n",
      "  train_df[\"Ikametgah Sehri\"].fillna(\"İstanbul\", inplace=True)\n"
     ]
    }
   ],
   "source": [
    "train_df[\"Ikametgah Sehri\"].mode()\n",
    "train_df[\"Ikametgah Sehri\"].fillna(\"İstanbul\", inplace=True)"
   ]
  },
  {
   "cell_type": "code",
   "execution_count": 16,
   "metadata": {},
   "outputs": [
    {
     "name": "stderr",
     "output_type": "stream",
     "text": [
      "C:\\Users\\omerf\\AppData\\Local\\Temp\\ipykernel_15036\\1548358187.py:2: FutureWarning: A value is trying to be set on a copy of a DataFrame or Series through chained assignment using an inplace method.\n",
      "The behavior will change in pandas 3.0. This inplace method will never work because the intermediate object on which we are setting values always behaves as a copy.\n",
      "\n",
      "For example, when doing 'df[col].method(value, inplace=True)', try using 'df.method({col: value}, inplace=True)' or df[col] = df[col].method(value) instead, to perform the operation inplace on the original object.\n",
      "\n",
      "\n",
      "  train_df[\"Universite Turu\"].fillna(\"Devlet\", inplace=True)\n"
     ]
    }
   ],
   "source": [
    "train_df[\"Universite Turu\"].mode()\n",
    "train_df[\"Universite Turu\"].fillna(\"Devlet\", inplace=True)"
   ]
  },
  {
   "cell_type": "code",
   "execution_count": 17,
   "metadata": {},
   "outputs": [
    {
     "name": "stderr",
     "output_type": "stream",
     "text": [
      "C:\\Users\\omerf\\AppData\\Local\\Temp\\ipykernel_15036\\50851894.py:2: FutureWarning: A value is trying to be set on a copy of a DataFrame or Series through chained assignment using an inplace method.\n",
      "The behavior will change in pandas 3.0. This inplace method will never work because the intermediate object on which we are setting values always behaves as a copy.\n",
      "\n",
      "For example, when doing 'df[col].method(value, inplace=True)', try using 'df.method({col: value}, inplace=True)' or df[col] = df[col].method(value) instead, to perform the operation inplace on the original object.\n",
      "\n",
      "\n",
      "  train_df[\"Universite Kacinci Sinif\"].fillna(2, inplace=True)\n"
     ]
    }
   ],
   "source": [
    "train_df[\"Universite Kacinci Sinif\"].mode()\n",
    "train_df[\"Universite Kacinci Sinif\"].fillna(2, inplace=True)"
   ]
  },
  {
   "cell_type": "code",
   "execution_count": 18,
   "metadata": {},
   "outputs": [
    {
     "name": "stderr",
     "output_type": "stream",
     "text": [
      "C:\\Users\\omerf\\AppData\\Local\\Temp\\ipykernel_15036\\3723416321.py:2: FutureWarning: A value is trying to be set on a copy of a DataFrame or Series through chained assignment using an inplace method.\n",
      "The behavior will change in pandas 3.0. This inplace method will never work because the intermediate object on which we are setting values always behaves as a copy.\n",
      "\n",
      "For example, when doing 'df[col].method(value, inplace=True)', try using 'df.method({col: value}, inplace=True)' or df[col] = df[col].method(value) instead, to perform the operation inplace on the original object.\n",
      "\n",
      "\n",
      "  train_df[\"Universite Not Ortalamasi\"].fillna(\"ORTALAMA BULUNMUYOR\", inplace=True)\n"
     ]
    }
   ],
   "source": [
    "train_df[\"Universite Not Ortalamasi\"].value_counts()\n",
    "train_df[\"Universite Not Ortalamasi\"].fillna(\"ORTALAMA BULUNMUYOR\", inplace=True)"
   ]
  },
  {
   "cell_type": "code",
   "execution_count": 19,
   "metadata": {},
   "outputs": [
    {
     "name": "stderr",
     "output_type": "stream",
     "text": [
      "C:\\Users\\omerf\\AppData\\Local\\Temp\\ipykernel_15036\\1976033842.py:2: FutureWarning: A value is trying to be set on a copy of a DataFrame or Series through chained assignment using an inplace method.\n",
      "The behavior will change in pandas 3.0. This inplace method will never work because the intermediate object on which we are setting values always behaves as a copy.\n",
      "\n",
      "For example, when doing 'df[col].method(value, inplace=True)', try using 'df.method({col: value}, inplace=True)' or df[col] = df[col].method(value) instead, to perform the operation inplace on the original object.\n",
      "\n",
      "\n",
      "  train_df[\"Lise Turu\"].fillna(\"Anadolu Lisesi\", inplace=True)\n"
     ]
    }
   ],
   "source": [
    "train_df[\"Lise Turu\"].value_counts()\n",
    "train_df[\"Lise Turu\"].fillna(\"Anadolu Lisesi\", inplace=True)"
   ]
  },
  {
   "cell_type": "code",
   "execution_count": 20,
   "metadata": {},
   "outputs": [
    {
     "name": "stderr",
     "output_type": "stream",
     "text": [
      "C:\\Users\\omerf\\AppData\\Local\\Temp\\ipykernel_15036\\2233314850.py:2: FutureWarning: A value is trying to be set on a copy of a DataFrame or Series through chained assignment using an inplace method.\n",
      "The behavior will change in pandas 3.0. This inplace method will never work because the intermediate object on which we are setting values always behaves as a copy.\n",
      "\n",
      "For example, when doing 'df[col].method(value, inplace=True)', try using 'df.method({col: value}, inplace=True)' or df[col] = df[col].method(value) instead, to perform the operation inplace on the original object.\n",
      "\n",
      "\n",
      "  train_df[\"Lise Bolumu\"].fillna(\"Sayısal\", inplace=True)\n"
     ]
    }
   ],
   "source": [
    "train_df[\"Lise Bolumu\"].value_counts()\n",
    "train_df[\"Lise Bolumu\"].fillna(\"Sayısal\", inplace=True)"
   ]
  },
  {
   "cell_type": "code",
   "execution_count": 21,
   "metadata": {},
   "outputs": [
    {
     "name": "stderr",
     "output_type": "stream",
     "text": [
      "C:\\Users\\omerf\\AppData\\Local\\Temp\\ipykernel_15036\\50389814.py:2: FutureWarning: A value is trying to be set on a copy of a DataFrame or Series through chained assignment using an inplace method.\n",
      "The behavior will change in pandas 3.0. This inplace method will never work because the intermediate object on which we are setting values always behaves as a copy.\n",
      "\n",
      "For example, when doing 'df[col].method(value, inplace=True)', try using 'df.method({col: value}, inplace=True)' or df[col] = df[col].method(value) instead, to perform the operation inplace on the original object.\n",
      "\n",
      "\n",
      "  train_df[\"Lise Mezuniyet Notu\"].fillna(\"75-100\", inplace=True)\n"
     ]
    }
   ],
   "source": [
    "train_df[\"Lise Mezuniyet Notu\"].value_counts()\n",
    "train_df[\"Lise Mezuniyet Notu\"].fillna(\"75-100\", inplace=True)"
   ]
  },
  {
   "cell_type": "code",
   "execution_count": 22,
   "metadata": {},
   "outputs": [
    {
     "name": "stderr",
     "output_type": "stream",
     "text": [
      "C:\\Users\\omerf\\AppData\\Local\\Temp\\ipykernel_15036\\2185255866.py:1: FutureWarning: A value is trying to be set on a copy of a DataFrame or Series through chained assignment using an inplace method.\n",
      "The behavior will change in pandas 3.0. This inplace method will never work because the intermediate object on which we are setting values always behaves as a copy.\n",
      "\n",
      "For example, when doing 'df[col].method(value, inplace=True)', try using 'df.method({col: value}, inplace=True)' or df[col] = df[col].method(value) instead, to perform the operation inplace on the original object.\n",
      "\n",
      "\n",
      "  train_df[\"Degerlendirme Puani\"].fillna(0, inplace=True)\n",
      "C:\\Users\\omerf\\AppData\\Local\\Temp\\ipykernel_15036\\2185255866.py:2: FutureWarning: A value is trying to be set on a copy of a DataFrame or Series through chained assignment using an inplace method.\n",
      "The behavior will change in pandas 3.0. This inplace method will never work because the intermediate object on which we are setting values always behaves as a copy.\n",
      "\n",
      "For example, when doing 'df[col].method(value, inplace=True)', try using 'df.method({col: value}, inplace=True)' or df[col] = df[col].method(value) instead, to perform the operation inplace on the original object.\n",
      "\n",
      "\n",
      "  train_df[\"Dogum Tarihi\"].fillna(\"Bilinmiyor\", inplace=True)\n",
      "C:\\Users\\omerf\\AppData\\Local\\Temp\\ipykernel_15036\\2185255866.py:2: FutureWarning: Setting an item of incompatible dtype is deprecated and will raise an error in a future version of pandas. Value 'Bilinmiyor' has dtype incompatible with datetime64[ns], please explicitly cast to a compatible dtype first.\n",
      "  train_df[\"Dogum Tarihi\"].fillna(\"Bilinmiyor\", inplace=True)\n",
      "C:\\Users\\omerf\\AppData\\Local\\Temp\\ipykernel_15036\\2185255866.py:3: FutureWarning: A value is trying to be set on a copy of a DataFrame or Series through chained assignment using an inplace method.\n",
      "The behavior will change in pandas 3.0. This inplace method will never work because the intermediate object on which we are setting values always behaves as a copy.\n",
      "\n",
      "For example, when doing 'df[col].method(value, inplace=True)', try using 'df.method({col: value}, inplace=True)' or df[col] = df[col].method(value) instead, to perform the operation inplace on the original object.\n",
      "\n",
      "\n",
      "  train_df[\"Universite Adi\"].fillna(\"Bilinmiyor\", inplace=True)\n",
      "C:\\Users\\omerf\\AppData\\Local\\Temp\\ipykernel_15036\\2185255866.py:4: FutureWarning: A value is trying to be set on a copy of a DataFrame or Series through chained assignment using an inplace method.\n",
      "The behavior will change in pandas 3.0. This inplace method will never work because the intermediate object on which we are setting values always behaves as a copy.\n",
      "\n",
      "For example, when doing 'df[col].method(value, inplace=True)', try using 'df.method({col: value}, inplace=True)' or df[col] = df[col].method(value) instead, to perform the operation inplace on the original object.\n",
      "\n",
      "\n",
      "  train_df[\"Bölüm\"].fillna(\"Bilinmiyor\", inplace=True)\n",
      "C:\\Users\\omerf\\AppData\\Local\\Temp\\ipykernel_15036\\2185255866.py:5: FutureWarning: A value is trying to be set on a copy of a DataFrame or Series through chained assignment using an inplace method.\n",
      "The behavior will change in pandas 3.0. This inplace method will never work because the intermediate object on which we are setting values always behaves as a copy.\n",
      "\n",
      "For example, when doing 'df[col].method(value, inplace=True)', try using 'df.method({col: value}, inplace=True)' or df[col] = df[col].method(value) instead, to perform the operation inplace on the original object.\n",
      "\n",
      "\n",
      "  train_df[\"Lise Adi\"].fillna(\"Bilinmiyor\", inplace=True)\n",
      "C:\\Users\\omerf\\AppData\\Local\\Temp\\ipykernel_15036\\2185255866.py:6: FutureWarning: A value is trying to be set on a copy of a DataFrame or Series through chained assignment using an inplace method.\n",
      "The behavior will change in pandas 3.0. This inplace method will never work because the intermediate object on which we are setting values always behaves as a copy.\n",
      "\n",
      "For example, when doing 'df[col].method(value, inplace=True)', try using 'df.method({col: value}, inplace=True)' or df[col] = df[col].method(value) instead, to perform the operation inplace on the original object.\n",
      "\n",
      "\n",
      "  train_df[\"Baska Bir Kurumdan Burs Aliyor mu?\"].fillna(\"Bilinmiyor\", inplace=True)\n",
      "C:\\Users\\omerf\\AppData\\Local\\Temp\\ipykernel_15036\\2185255866.py:7: FutureWarning: A value is trying to be set on a copy of a DataFrame or Series through chained assignment using an inplace method.\n",
      "The behavior will change in pandas 3.0. This inplace method will never work because the intermediate object on which we are setting values always behaves as a copy.\n",
      "\n",
      "For example, when doing 'df[col].method(value, inplace=True)', try using 'df.method({col: value}, inplace=True)' or df[col] = df[col].method(value) instead, to perform the operation inplace on the original object.\n",
      "\n",
      "\n",
      "  train_df[\"Burs Aldigi Baska Kurum\"].fillna(\"Bilinmiyor\", inplace=True)\n",
      "C:\\Users\\omerf\\AppData\\Local\\Temp\\ipykernel_15036\\2185255866.py:8: FutureWarning: A value is trying to be set on a copy of a DataFrame or Series through chained assignment using an inplace method.\n",
      "The behavior will change in pandas 3.0. This inplace method will never work because the intermediate object on which we are setting values always behaves as a copy.\n",
      "\n",
      "For example, when doing 'df[col].method(value, inplace=True)', try using 'df.method({col: value}, inplace=True)' or df[col] = df[col].method(value) instead, to perform the operation inplace on the original object.\n",
      "\n",
      "\n",
      "  train_df[\"Anne Egitim Durumu\"].fillna(\"Bilinmiyor\", inplace=True)\n",
      "C:\\Users\\omerf\\AppData\\Local\\Temp\\ipykernel_15036\\2185255866.py:9: FutureWarning: A value is trying to be set on a copy of a DataFrame or Series through chained assignment using an inplace method.\n",
      "The behavior will change in pandas 3.0. This inplace method will never work because the intermediate object on which we are setting values always behaves as a copy.\n",
      "\n",
      "For example, when doing 'df[col].method(value, inplace=True)', try using 'df.method({col: value}, inplace=True)' or df[col] = df[col].method(value) instead, to perform the operation inplace on the original object.\n",
      "\n",
      "\n",
      "  train_df[\"Anne Calisma Durumu\"].fillna(\"Bilinmiyor\", inplace=True)\n",
      "C:\\Users\\omerf\\AppData\\Local\\Temp\\ipykernel_15036\\2185255866.py:10: FutureWarning: A value is trying to be set on a copy of a DataFrame or Series through chained assignment using an inplace method.\n",
      "The behavior will change in pandas 3.0. This inplace method will never work because the intermediate object on which we are setting values always behaves as a copy.\n",
      "\n",
      "For example, when doing 'df[col].method(value, inplace=True)', try using 'df.method({col: value}, inplace=True)' or df[col] = df[col].method(value) instead, to perform the operation inplace on the original object.\n",
      "\n",
      "\n",
      "  train_df[\"Anne Sektor\"].fillna(\"Bilinmiyor\", inplace=True)\n",
      "C:\\Users\\omerf\\AppData\\Local\\Temp\\ipykernel_15036\\2185255866.py:11: FutureWarning: A value is trying to be set on a copy of a DataFrame or Series through chained assignment using an inplace method.\n",
      "The behavior will change in pandas 3.0. This inplace method will never work because the intermediate object on which we are setting values always behaves as a copy.\n",
      "\n",
      "For example, when doing 'df[col].method(value, inplace=True)', try using 'df.method({col: value}, inplace=True)' or df[col] = df[col].method(value) instead, to perform the operation inplace on the original object.\n",
      "\n",
      "\n",
      "  train_df[\"Baba Calisma Durumu\"].fillna(\"Bilinmiyor\", inplace=True)\n",
      "C:\\Users\\omerf\\AppData\\Local\\Temp\\ipykernel_15036\\2185255866.py:12: FutureWarning: A value is trying to be set on a copy of a DataFrame or Series through chained assignment using an inplace method.\n",
      "The behavior will change in pandas 3.0. This inplace method will never work because the intermediate object on which we are setting values always behaves as a copy.\n",
      "\n",
      "For example, when doing 'df[col].method(value, inplace=True)', try using 'df.method({col: value}, inplace=True)' or df[col] = df[col].method(value) instead, to perform the operation inplace on the original object.\n",
      "\n",
      "\n",
      "  train_df[\"Baba Egitim Durumu\"].fillna(\"Bilinmiyor\", inplace=True)\n",
      "C:\\Users\\omerf\\AppData\\Local\\Temp\\ipykernel_15036\\2185255866.py:13: FutureWarning: A value is trying to be set on a copy of a DataFrame or Series through chained assignment using an inplace method.\n",
      "The behavior will change in pandas 3.0. This inplace method will never work because the intermediate object on which we are setting values always behaves as a copy.\n",
      "\n",
      "For example, when doing 'df[col].method(value, inplace=True)', try using 'df.method({col: value}, inplace=True)' or df[col] = df[col].method(value) instead, to perform the operation inplace on the original object.\n",
      "\n",
      "\n",
      "  train_df[\"Baba Sektor\"].fillna(\"Bilinmiyor\", inplace=True)\n",
      "C:\\Users\\omerf\\AppData\\Local\\Temp\\ipykernel_15036\\2185255866.py:14: FutureWarning: A value is trying to be set on a copy of a DataFrame or Series through chained assignment using an inplace method.\n",
      "The behavior will change in pandas 3.0. This inplace method will never work because the intermediate object on which we are setting values always behaves as a copy.\n",
      "\n",
      "For example, when doing 'df[col].method(value, inplace=True)', try using 'df.method({col: value}, inplace=True)' or df[col] = df[col].method(value) instead, to perform the operation inplace on the original object.\n",
      "\n",
      "\n",
      "  train_df[\"Kardes Sayisi\"].fillna(0, inplace=True)\n",
      "C:\\Users\\omerf\\AppData\\Local\\Temp\\ipykernel_15036\\2185255866.py:15: FutureWarning: A value is trying to be set on a copy of a DataFrame or Series through chained assignment using an inplace method.\n",
      "The behavior will change in pandas 3.0. This inplace method will never work because the intermediate object on which we are setting values always behaves as a copy.\n",
      "\n",
      "For example, when doing 'df[col].method(value, inplace=True)', try using 'df.method({col: value}, inplace=True)' or df[col] = df[col].method(value) instead, to perform the operation inplace on the original object.\n",
      "\n",
      "\n",
      "  train_df[\"Girisimcilik Kulupleri Tarzi Bir Kulube Uye misiniz?\"].fillna(\"Bilinmiyor\", inplace=True)\n",
      "C:\\Users\\omerf\\AppData\\Local\\Temp\\ipykernel_15036\\2185255866.py:16: FutureWarning: A value is trying to be set on a copy of a DataFrame or Series through chained assignment using an inplace method.\n",
      "The behavior will change in pandas 3.0. This inplace method will never work because the intermediate object on which we are setting values always behaves as a copy.\n",
      "\n",
      "For example, when doing 'df[col].method(value, inplace=True)', try using 'df.method({col: value}, inplace=True)' or df[col] = df[col].method(value) instead, to perform the operation inplace on the original object.\n",
      "\n",
      "\n",
      "  train_df[\"Profesyonel Bir Spor Daliyla Mesgul musunuz?\"].fillna(\"Bilinmiyor\", inplace=True)\n",
      "C:\\Users\\omerf\\AppData\\Local\\Temp\\ipykernel_15036\\2185255866.py:17: FutureWarning: A value is trying to be set on a copy of a DataFrame or Series through chained assignment using an inplace method.\n",
      "The behavior will change in pandas 3.0. This inplace method will never work because the intermediate object on which we are setting values always behaves as a copy.\n",
      "\n",
      "For example, when doing 'df[col].method(value, inplace=True)', try using 'df.method({col: value}, inplace=True)' or df[col] = df[col].method(value) instead, to perform the operation inplace on the original object.\n",
      "\n",
      "\n",
      "  train_df[\"Spor Dalindaki Rolunuz Nedir?\"].fillna(\"Bilinmiyor\", inplace=True)\n",
      "C:\\Users\\omerf\\AppData\\Local\\Temp\\ipykernel_15036\\2185255866.py:18: FutureWarning: A value is trying to be set on a copy of a DataFrame or Series through chained assignment using an inplace method.\n",
      "The behavior will change in pandas 3.0. This inplace method will never work because the intermediate object on which we are setting values always behaves as a copy.\n",
      "\n",
      "For example, when doing 'df[col].method(value, inplace=True)', try using 'df.method({col: value}, inplace=True)' or df[col] = df[col].method(value) instead, to perform the operation inplace on the original object.\n",
      "\n",
      "\n",
      "  train_df[\"Aktif olarak bir STK üyesi misiniz?\"].fillna(\"Bilinmiyor\", inplace=True)\n",
      "C:\\Users\\omerf\\AppData\\Local\\Temp\\ipykernel_15036\\2185255866.py:19: FutureWarning: A value is trying to be set on a copy of a DataFrame or Series through chained assignment using an inplace method.\n",
      "The behavior will change in pandas 3.0. This inplace method will never work because the intermediate object on which we are setting values always behaves as a copy.\n",
      "\n",
      "For example, when doing 'df[col].method(value, inplace=True)', try using 'df.method({col: value}, inplace=True)' or df[col] = df[col].method(value) instead, to perform the operation inplace on the original object.\n",
      "\n",
      "\n",
      "  train_df[\"Hangi STK\\'nin Uyesisiniz?\"].fillna(\"Bilinmiyor\", inplace=True)\n",
      "C:\\Users\\omerf\\AppData\\Local\\Temp\\ipykernel_15036\\2185255866.py:20: FutureWarning: A value is trying to be set on a copy of a DataFrame or Series through chained assignment using an inplace method.\n",
      "The behavior will change in pandas 3.0. This inplace method will never work because the intermediate object on which we are setting values always behaves as a copy.\n",
      "\n",
      "For example, when doing 'df[col].method(value, inplace=True)', try using 'df.method({col: value}, inplace=True)' or df[col] = df[col].method(value) instead, to perform the operation inplace on the original object.\n",
      "\n",
      "\n",
      "  train_df[\"Girisimcilikle Ilgili Deneyiminiz Var Mi?\"].fillna(\"Bilinmiyor\", inplace=True)\n",
      "C:\\Users\\omerf\\AppData\\Local\\Temp\\ipykernel_15036\\2185255866.py:21: FutureWarning: A value is trying to be set on a copy of a DataFrame or Series through chained assignment using an inplace method.\n",
      "The behavior will change in pandas 3.0. This inplace method will never work because the intermediate object on which we are setting values always behaves as a copy.\n",
      "\n",
      "For example, when doing 'df[col].method(value, inplace=True)', try using 'df.method({col: value}, inplace=True)' or df[col] = df[col].method(value) instead, to perform the operation inplace on the original object.\n",
      "\n",
      "\n",
      "  train_df[\"Girisimcilikle Ilgili Deneyiminizi Aciklayabilir misiniz?\"].fillna(\"Bilinmiyor\", inplace=True)\n",
      "C:\\Users\\omerf\\AppData\\Local\\Temp\\ipykernel_15036\\2185255866.py:22: FutureWarning: A value is trying to be set on a copy of a DataFrame or Series through chained assignment using an inplace method.\n",
      "The behavior will change in pandas 3.0. This inplace method will never work because the intermediate object on which we are setting values always behaves as a copy.\n",
      "\n",
      "For example, when doing 'df[col].method(value, inplace=True)', try using 'df.method({col: value}, inplace=True)' or df[col] = df[col].method(value) instead, to perform the operation inplace on the original object.\n",
      "\n",
      "\n",
      "  train_df[\"Ingilizce Biliyor musunuz?\"].fillna(\"Bilinmiyor\", inplace=True)\n",
      "C:\\Users\\omerf\\AppData\\Local\\Temp\\ipykernel_15036\\2185255866.py:23: FutureWarning: A value is trying to be set on a copy of a DataFrame or Series through chained assignment using an inplace method.\n",
      "The behavior will change in pandas 3.0. This inplace method will never work because the intermediate object on which we are setting values always behaves as a copy.\n",
      "\n",
      "For example, when doing 'df[col].method(value, inplace=True)', try using 'df.method({col: value}, inplace=True)' or df[col] = df[col].method(value) instead, to perform the operation inplace on the original object.\n",
      "\n",
      "\n",
      "  train_df[\"Baska Kurumdan Aldigi Burs Miktari\"].fillna(\"Bilinmiyor\", inplace=True)\n",
      "C:\\Users\\omerf\\AppData\\Local\\Temp\\ipykernel_15036\\2185255866.py:24: FutureWarning: A value is trying to be set on a copy of a DataFrame or Series through chained assignment using an inplace method.\n",
      "The behavior will change in pandas 3.0. This inplace method will never work because the intermediate object on which we are setting values always behaves as a copy.\n",
      "\n",
      "For example, when doing 'df[col].method(value, inplace=True)', try using 'df.method({col: value}, inplace=True)' or df[col] = df[col].method(value) instead, to perform the operation inplace on the original object.\n",
      "\n",
      "\n",
      "  train_df[\"Yas\"].fillna(train_df['Yas'].median(), inplace=True)\n"
     ]
    }
   ],
   "source": [
    "train_df[\"Degerlendirme Puani\"].fillna(0, inplace=True)\n",
    "train_df[\"Dogum Tarihi\"].fillna(\"Bilinmiyor\", inplace=True)\n",
    "train_df[\"Universite Adi\"].fillna(\"Bilinmiyor\", inplace=True)\n",
    "train_df[\"Bölüm\"].fillna(\"Bilinmiyor\", inplace=True)\n",
    "train_df[\"Lise Adi\"].fillna(\"Bilinmiyor\", inplace=True)\n",
    "train_df[\"Baska Bir Kurumdan Burs Aliyor mu?\"].fillna(\"Bilinmiyor\", inplace=True)\n",
    "train_df[\"Burs Aldigi Baska Kurum\"].fillna(\"Bilinmiyor\", inplace=True)\n",
    "train_df[\"Anne Egitim Durumu\"].fillna(\"Bilinmiyor\", inplace=True)\n",
    "train_df[\"Anne Calisma Durumu\"].fillna(\"Bilinmiyor\", inplace=True)\n",
    "train_df[\"Anne Sektor\"].fillna(\"Bilinmiyor\", inplace=True)\n",
    "train_df[\"Baba Calisma Durumu\"].fillna(\"Bilinmiyor\", inplace=True)\n",
    "train_df[\"Baba Egitim Durumu\"].fillna(\"Bilinmiyor\", inplace=True)\n",
    "train_df[\"Baba Sektor\"].fillna(\"Bilinmiyor\", inplace=True)\n",
    "train_df[\"Kardes Sayisi\"].fillna(0, inplace=True)\n",
    "train_df[\"Girisimcilik Kulupleri Tarzi Bir Kulube Uye misiniz?\"].fillna(\"Bilinmiyor\", inplace=True)\n",
    "train_df[\"Profesyonel Bir Spor Daliyla Mesgul musunuz?\"].fillna(\"Bilinmiyor\", inplace=True)\n",
    "train_df[\"Spor Dalindaki Rolunuz Nedir?\"].fillna(\"Bilinmiyor\", inplace=True)\n",
    "train_df[\"Aktif olarak bir STK üyesi misiniz?\"].fillna(\"Bilinmiyor\", inplace=True)\n",
    "train_df[\"Hangi STK\\'nin Uyesisiniz?\"].fillna(\"Bilinmiyor\", inplace=True)\n",
    "train_df[\"Girisimcilikle Ilgili Deneyiminiz Var Mi?\"].fillna(\"Bilinmiyor\", inplace=True)\n",
    "train_df[\"Girisimcilikle Ilgili Deneyiminizi Aciklayabilir misiniz?\"].fillna(\"Bilinmiyor\", inplace=True)\n",
    "train_df[\"Ingilizce Biliyor musunuz?\"].fillna(\"Bilinmiyor\", inplace=True)\n",
    "train_df[\"Baska Kurumdan Aldigi Burs Miktari\"].fillna(\"Bilinmiyor\", inplace=True)\n",
    "train_df[\"Yas\"].fillna(train_df['Yas'].median(), inplace=True)"
   ]
  },
  {
   "cell_type": "code",
   "execution_count": 23,
   "metadata": {},
   "outputs": [
    {
     "data": {
      "text/plain": [
       "Yas\n",
       "21.0     53685\n",
       "20.0      3755\n",
       "22.0      2847\n",
       "19.0      2227\n",
       "23.0      1607\n",
       "24.0       652\n",
       "18.0       145\n",
       "25.0        68\n",
       "44.0        42\n",
       "26.0        32\n",
       "27.0        14\n",
       "17.0        14\n",
       "28.0        10\n",
       "30.0         6\n",
       "0.0          4\n",
       "29.0         4\n",
       "31.0         3\n",
       "34.0         2\n",
       "38.0         2\n",
       "37.0         1\n",
       "6.0          1\n",
       "42.0         1\n",
       "122.0        1\n",
       "129.0        1\n",
       "121.0        1\n",
       "Name: count, dtype: int64"
      ]
     },
     "execution_count": 23,
     "metadata": {},
     "output_type": "execute_result"
    }
   ],
   "source": [
    "train_df[\"Yas\"].value_counts()"
   ]
  },
  {
   "cell_type": "code",
   "execution_count": 24,
   "metadata": {},
   "outputs": [],
   "source": [
    "train_df['Ebeveyn Eğitim Durumu'] = train_df['Anne Egitim Durumu'].astype(str) + '-' + train_df['Baba Egitim Durumu'].astype(str)\n",
    "\n",
    "train_df['Ebeveyn Çalışma Durumu'] = train_df['Anne Calisma Durumu'].astype(str) + '-' + train_df['Baba Calisma Durumu'].astype(str)\n",
    "\n",
    "train_df['Genel Burs Durumu'] = train_df['Burs Aliyor mu?'] + '-' + train_df['Baska Bir Kurumdan Burs Aliyor mu?']\n",
    "\n",
    "train_df['Sosyal Katilim Skoru'] = (train_df['Aktif olarak bir STK üyesi misiniz?'] + \n",
    "                                     train_df['Girisimcilik Kulupleri Tarzi Bir Kulube Uye misiniz?'] + \n",
    "                                     train_df['Profesyonel Bir Spor Daliyla Mesgul musunuz?'])\n",
    "\n",
    "train_df['Mezuniyet Yilina Kalan Sure'] = train_df['Universite Kacinci Sinif'].apply(\n",
    "    lambda x: 4 if x == 'Hazırlık' or x == \"hazırlık\" else (0 if x == 'Mezun' or x == \"Yüksek Lisans\" or x == \"Tez\" else 4 - int(x))\n",
    ")\n"
   ]
  },
  {
   "cell_type": "code",
   "execution_count": 25,
   "metadata": {},
   "outputs": [],
   "source": [
    "test_df['Ebeveyn Eğitim Durumu'] = test_df['Anne Egitim Durumu'].astype(str) + '-' + test_df['Baba Egitim Durumu'].astype(str)\n",
    "\n",
    "test_df['Ebeveyn Çalışma Durumu'] = test_df['Anne Calisma Durumu'].astype(str) + '-' + test_df['Baba Calisma Durumu'].astype(str)\n",
    "\n",
    "test_df['Genel Burs Durumu'] = test_df['Burs Aliyor mu?'] + '-' + test_df['Baska Bir Kurumdan Burs Aliyor mu?']\n",
    "\n",
    "test_df['Sosyal Katilim Skoru'] = (test_df['Aktif olarak bir STK üyesi misiniz?'] + \n",
    "                                     test_df['Girisimcilik Kulupleri Tarzi Bir Kulube Uye misiniz?'] + \n",
    "                                     test_df['Profesyonel Bir Spor Daliyla Mesgul musunuz?'])\n",
    "\n",
    "test_df['Mezuniyet Yilina Kalan Sure'] = test_df['Universite Kacinci Sinif'].apply(lambda x: 4 if x == 'Hazırlık' or x == \"hazırlık\" else (0 if x == 'Mezun' or x == \"Yüksek Lisans\" or x == \"Tez\" else 4 - int(x)))"
   ]
  },
  {
   "cell_type": "code",
   "execution_count": 26,
   "metadata": {},
   "outputs": [],
   "source": [
    "def parse_range(value):\n",
    "    try:\n",
    "        # Split the range and calculate the average\n",
    "        parts = value.split('-')\n",
    "        if len(parts) == 2:\n",
    "            return (float(parts[0]) + float(parts[1])) / 2\n",
    "        else:\n",
    "            return float(value)\n",
    "    except ValueError:\n",
    "        return None"
   ]
  },
  {
   "cell_type": "code",
   "execution_count": 27,
   "metadata": {},
   "outputs": [],
   "source": [
    "train_df['Lise Mezuniyet Notu'] = train_df['Lise Mezuniyet Notu'].apply(parse_range)\n",
    "train_df['Universite Not Ortalamasi'] = train_df['Universite Not Ortalamasi'].apply(parse_range)"
   ]
  },
  {
   "cell_type": "code",
   "execution_count": 28,
   "metadata": {},
   "outputs": [],
   "source": [
    "test_df['Lise Mezuniyet Notu'] = test_df['Lise Mezuniyet Notu'].apply(parse_range)\n",
    "test_df['Universite Not Ortalamasi'] = test_df['Universite Not Ortalamasi'].apply(parse_range)"
   ]
  },
  {
   "cell_type": "code",
   "execution_count": 29,
   "metadata": {},
   "outputs": [],
   "source": [
    "from sklearn.impute import SimpleImputer\n",
    "\n",
    "imputer = SimpleImputer(strategy='mean')\n",
    "train_df[['Universite Not Ortalamasi']] = imputer.fit_transform(train_df[['Universite Not Ortalamasi']])\n",
    "train_df[[\"Lise Mezuniyet Notu\"]] = imputer.fit_transform(train_df[['Lise Mezuniyet Notu']])"
   ]
  },
  {
   "cell_type": "code",
   "execution_count": 30,
   "metadata": {},
   "outputs": [],
   "source": [
    "train_df['Lise Mezuniyet Notu'] = pd.to_numeric(train_df['Lise Mezuniyet Notu'], errors='coerce')\n",
    "train_df['Universite Not Ortalamasi'] = pd.to_numeric(train_df['Universite Not Ortalamasi'], errors='coerce')\n",
    "\n",
    "train_df['Not Ortalaması Kategorisi'] = pd.cut(\n",
    "    train_df['Universite Not Ortalamasi'],\n",
    "    bins=[0, 1.5, 2.5, 3.0, 3.5, 4.0, 5.0],\n",
    "    labels=['Çok Düşük', 'Düşük', 'Orta Düşük', 'Orta', 'Orta Yüksek', 'Yüksek']\n",
    ")\n"
   ]
  },
  {
   "cell_type": "code",
   "execution_count": 31,
   "metadata": {},
   "outputs": [],
   "source": [
    "test_df['Lise Mezuniyet Notu'] = pd.to_numeric(test_df['Lise Mezuniyet Notu'], errors='coerce')\n",
    "test_df['Universite Not Ortalamasi'] = pd.to_numeric(test_df['Universite Not Ortalamasi'], errors='coerce')\n",
    "\n",
    "test_df['Not Ortalaması Kategorisi'] = pd.cut(\n",
    "    test_df['Universite Not Ortalamasi'],\n",
    "    bins=[0, 1.5, 2.5, 3.0, 3.5, 4.0, 5.0],\n",
    "    labels=['Çok Düşük', 'Düşük', 'Orta Düşük', 'Orta', 'Orta Yüksek', 'Yüksek']\n",
    ")"
   ]
  },
  {
   "cell_type": "code",
   "execution_count": 32,
   "metadata": {},
   "outputs": [],
   "source": [
    "target_column = train_df[\"id\"]\n",
    "train_df.drop(columns=[\"id\"], inplace=True)\n",
    "train_df[\"id\"] = target_column"
   ]
  },
  {
   "cell_type": "code",
   "execution_count": 33,
   "metadata": {},
   "outputs": [],
   "source": [
    "target_column = test_df[\"id\"]\n",
    "test_df.drop(columns=[\"id\"], inplace=True)\n",
    "test_df[\"id\"] = target_column"
   ]
  },
  {
   "cell_type": "code",
   "execution_count": 34,
   "metadata": {},
   "outputs": [
    {
     "data": {
      "text/plain": [
       "Basvuru Yili                                                     0\n",
       "Cinsiyet                                                         0\n",
       "Dogum Tarihi                                                     0\n",
       "Dogum Yeri                                                       0\n",
       "Ikametgah Sehri                                                  0\n",
       "Universite Adi                                                   0\n",
       "Universite Turu                                                  0\n",
       "Burslu ise Burs Yuzdesi                                      11049\n",
       "Burs Aliyor mu?                                                  0\n",
       "Bölüm                                                            0\n",
       "Universite Kacinci Sinif                                         0\n",
       "Universite Not Ortalamasi                                     1108\n",
       "Daha Once Baska Bir Universiteden Mezun Olmus                11049\n",
       "Lise Adi                                                         0\n",
       "Lise Adi Diger                                               11049\n",
       "Lise Sehir                                                       0\n",
       "Lise Turu                                                        0\n",
       "Lise Bolumu                                                      0\n",
       "Lise Bolum Diger                                             11049\n",
       "Lise Mezuniyet Notu                                              0\n",
       "Baska Bir Kurumdan Burs Aliyor mu?                               0\n",
       "Burs Aldigi Baska Kurum                                          0\n",
       "Baska Kurumdan Aldigi Burs Miktari                               0\n",
       "Anne Egitim Durumu                                               0\n",
       "Anne Calisma Durumu                                              0\n",
       "Anne Sektor                                                      0\n",
       "Baba Egitim Durumu                                               0\n",
       "Baba Calisma Durumu                                              0\n",
       "Baba Sektor                                                      0\n",
       "Kardes Sayisi                                                    0\n",
       "Girisimcilik Kulupleri Tarzi Bir Kulube Uye misiniz?             0\n",
       "Uye Oldugunuz Kulubun Ismi                                   11049\n",
       "Profesyonel Bir Spor Daliyla Mesgul musunuz?                     0\n",
       "Spor Dalindaki Rolunuz Nedir?                                    0\n",
       "Aktif olarak bir STK üyesi misiniz?                              0\n",
       "Hangi STK'nin Uyesisiniz?                                        0\n",
       "Stk Projesine Katildiniz Mi?                                 11049\n",
       "Girisimcilikle Ilgili Deneyiminiz Var Mi?                        0\n",
       "Girisimcilikle Ilgili Deneyiminizi Aciklayabilir misiniz?        0\n",
       "Ingilizce Biliyor musunuz?                                       0\n",
       "Ingilizce Seviyeniz?                                         11049\n",
       "Daha Önceden Mezun Olunduysa, Mezun Olunan Üniversite        11049\n",
       "Yas                                                              0\n",
       "Ebeveyn Eğitim Durumu                                            0\n",
       "Ebeveyn Çalışma Durumu                                           0\n",
       "Genel Burs Durumu                                                0\n",
       "Sosyal Katilim Skoru                                             0\n",
       "Mezuniyet Yilina Kalan Sure                                      0\n",
       "Not Ortalaması Kategorisi                                     1108\n",
       "id                                                               0\n",
       "dtype: int64"
      ]
     },
     "execution_count": 34,
     "metadata": {},
     "output_type": "execute_result"
    }
   ],
   "source": [
    "test_df.isna().sum()"
   ]
  },
  {
   "cell_type": "code",
   "execution_count": 35,
   "metadata": {},
   "outputs": [],
   "source": [
    "test_df.drop(columns=[\"Burslu ise Burs Yuzdesi\", \"Daha Once Baska Bir Universiteden Mezun Olmus\", \"Lise Adi Diger\", \"Lise Bolum Diger\", \"Uye Oldugunuz Kulubun Ismi\", \"Stk Projesine Katildiniz Mi?\", \"Ingilizce Seviyeniz?\", \"Daha Önceden Mezun Olunduysa, Mezun Olunan Üniversite\"], inplace=True)"
   ]
  },
  {
   "cell_type": "code",
   "execution_count": 36,
   "metadata": {},
   "outputs": [],
   "source": [
    "from catboost import CatBoostRegressor\n",
    "from sklearn.model_selection import train_test_split\n",
    "from sklearn.metrics import mean_squared_error"
   ]
  },
  {
   "cell_type": "code",
   "execution_count": 37,
   "metadata": {},
   "outputs": [],
   "source": [
    "categorical_features = [\n",
    "    'Ikametgah Sehri', 'Universite Adi', 'Universite Turu', 'Burs Aliyor mu?',\n",
    "    'Bölüm', 'Lise Adi', 'Lise Turu', 'Lise Bolumu', 'Baska Bir Kurumdan Burs Aliyor mu?',\n",
    "    'Burs Aldigi Baska Kurum', 'Baska Kurumdan Aldigi Burs Miktari', 'Anne Egitim Durumu',\n",
    "    'Anne Calisma Durumu', 'Anne Sektor', 'Baba Egitim Durumu', 'Baba Calisma Durumu',\n",
    "    'Baba Sektor', 'Girisimcilik Kulupleri Tarzi Bir Kulube Uye misiniz?', \n",
    "    'Profesyonel Bir Spor Daliyla Mesgul musunuz?', 'Spor Dalindaki Rolunuz Nedir?',\n",
    "    'Aktif olarak bir STK üyesi misiniz?', 'Hangi STK\\'nin Uyesisiniz?', \n",
    "    'Girisimcilikle Ilgili Deneyiminiz Var Mi?', 'Girisimcilikle Ilgili Deneyiminizi Aciklayabilir misiniz?',\n",
    "    'Ingilizce Biliyor musunuz?', 'Ebeveyn Eğitim Durumu', 'Ebeveyn Çalışma Durumu',\n",
    "    'Genel Burs Durumu', 'Not Ortalaması Kategorisi', 'Universite Kacinci Sinif', 'Kardes Sayisi', \"Sosyal Katilim Skoru\"\n",
    "]\n"
   ]
  },
  {
   "cell_type": "code",
   "execution_count": 38,
   "metadata": {},
   "outputs": [],
   "source": [
    "for col in categorical_features:\n",
    "    train_df[col] = train_df[col].astype(str)"
   ]
  },
  {
   "cell_type": "code",
   "execution_count": 39,
   "metadata": {},
   "outputs": [],
   "source": [
    "for col in categorical_features:\n",
    "    test_df[col] = test_df[col].astype(str)"
   ]
  },
  {
   "cell_type": "code",
   "execution_count": 40,
   "metadata": {},
   "outputs": [],
   "source": [
    "X = train_df.drop(columns=[\"Degerlendirme Puani\", \"Dogum Tarihi\", \"id\"])\n",
    "y = train_df[\"Degerlendirme Puani\"]"
   ]
  },
  {
   "cell_type": "code",
   "execution_count": 41,
   "metadata": {},
   "outputs": [],
   "source": [
    "X_test = test_df.drop(columns=[\"Dogum Tarihi\", \"Basvuru Yili\", \"Cinsiyet\", \"Lise Sehir\", \"Dogum Yeri\", \"id\"])"
   ]
  },
  {
   "cell_type": "code",
   "execution_count": 42,
   "metadata": {},
   "outputs": [],
   "source": [
    "X_train, X_val, y_train, y_val = train_test_split(X, y, test_size=0.2, random_state=42)"
   ]
  },
  {
   "cell_type": "code",
   "execution_count": 43,
   "metadata": {},
   "outputs": [],
   "source": [
    "from sklearn.preprocessing import LabelEncoder\n",
    "\n",
    "le = LabelEncoder()\n",
    "for feature in categorical_features:\n",
    "    le.fit(X_train[col])\n",
    "    X_train[col] = le.transform(X_train[col])\n",
    "    X_test[col] = le.transform(X_test[col])\n"
   ]
  },
  {
   "cell_type": "code",
   "execution_count": 56,
   "metadata": {},
   "outputs": [
    {
     "name": "stdout",
     "output_type": "stream",
     "text": [
      "0:\tlearn: 16.9629346\ttest: 18.1841592\tbest: 18.1841592 (0)\ttotal: 126ms\tremaining: 10m 30s\n",
      "100:\tlearn: 7.4392912\ttest: 12.6970280\tbest: 12.6970280 (100)\ttotal: 10.6s\tremaining: 8m 32s\n",
      "200:\tlearn: 7.1723318\ttest: 12.2917759\tbest: 12.2917759 (200)\ttotal: 21s\tremaining: 8m 20s\n",
      "300:\tlearn: 7.0565064\ttest: 11.5499783\tbest: 11.5499783 (300)\ttotal: 34.1s\tremaining: 8m 53s\n",
      "400:\tlearn: 6.9861764\ttest: 11.2738374\tbest: 11.2738374 (400)\ttotal: 45.4s\tremaining: 8m 40s\n",
      "500:\tlearn: 6.9395892\ttest: 11.0520224\tbest: 11.0520224 (500)\ttotal: 55.6s\tremaining: 8m 19s\n",
      "600:\tlearn: 6.8962180\ttest: 10.9480921\tbest: 10.9480921 (600)\ttotal: 1m 4s\tremaining: 7m 54s\n",
      "700:\tlearn: 6.8653108\ttest: 10.8030958\tbest: 10.8020895 (680)\ttotal: 1m 14s\tremaining: 7m 38s\n",
      "800:\tlearn: 6.8359526\ttest: 10.5472039\tbest: 10.5471956 (799)\ttotal: 1m 24s\tremaining: 7m 23s\n",
      "900:\tlearn: 6.8073503\ttest: 10.4792656\tbest: 10.4756118 (841)\ttotal: 1m 38s\tremaining: 7m 27s\n",
      "1000:\tlearn: 6.7848047\ttest: 10.3887396\tbest: 10.3887396 (1000)\ttotal: 1m 48s\tremaining: 7m 14s\n",
      "1100:\tlearn: 6.7623836\ttest: 10.3204704\tbest: 10.3149997 (1093)\ttotal: 2m\tremaining: 7m 5s\n",
      "1200:\tlearn: 6.7458802\ttest: 10.2831781\tbest: 10.2799447 (1194)\ttotal: 2m 11s\tremaining: 6m 55s\n",
      "1300:\tlearn: 6.7276901\ttest: 10.1210684\tbest: 10.1077096 (1236)\ttotal: 2m 23s\tremaining: 6m 46s\n",
      "1400:\tlearn: 6.7104202\ttest: 10.1178854\tbest: 10.1045716 (1341)\ttotal: 2m 36s\tremaining: 6m 41s\n",
      "1500:\tlearn: 6.6974642\ttest: 10.1202923\tbest: 10.1045716 (1341)\ttotal: 2m 50s\tremaining: 6m 37s\n",
      "1600:\tlearn: 6.6824030\ttest: 10.1127112\tbest: 10.1045716 (1341)\ttotal: 3m 5s\tremaining: 6m 33s\n",
      "1700:\tlearn: 6.6682454\ttest: 9.9833963\tbest: 9.9828255 (1696)\ttotal: 3m 16s\tremaining: 6m 20s\n",
      "1800:\tlearn: 6.6558582\ttest: 9.9178258\tbest: 9.9178258 (1800)\ttotal: 3m 30s\tremaining: 6m 13s\n",
      "1900:\tlearn: 6.6409241\ttest: 9.9021511\tbest: 9.9021511 (1900)\ttotal: 3m 42s\tremaining: 6m 2s\n",
      "2000:\tlearn: 6.6285910\ttest: 9.9031231\tbest: 9.9008872 (1904)\ttotal: 3m 53s\tremaining: 5m 50s\n",
      "2100:\tlearn: 6.6172484\ttest: 9.8879335\tbest: 9.8878723 (2098)\ttotal: 4m 6s\tremaining: 5m 40s\n",
      "2200:\tlearn: 6.6039365\ttest: 9.8902458\tbest: 9.8875465 (2104)\ttotal: 4m 18s\tremaining: 5m 28s\n",
      "2300:\tlearn: 6.5925465\ttest: 9.8957040\tbest: 9.8866664 (2232)\ttotal: 4m 31s\tremaining: 5m 18s\n",
      "2400:\tlearn: 6.5804492\ttest: 9.8832745\tbest: 9.8812075 (2388)\ttotal: 4m 47s\tremaining: 5m 11s\n",
      "2500:\tlearn: 6.5692271\ttest: 9.8523120\tbest: 9.8522815 (2497)\ttotal: 5m\tremaining: 5m\n",
      "2600:\tlearn: 6.5574685\ttest: 9.7627985\tbest: 9.7615529 (2564)\ttotal: 5m 12s\tremaining: 4m 48s\n",
      "2700:\tlearn: 6.5461072\ttest: 9.7497372\tbest: 9.7497372 (2700)\ttotal: 5m 27s\tremaining: 4m 38s\n",
      "2800:\tlearn: 6.5348411\ttest: 9.7313870\tbest: 9.7313870 (2800)\ttotal: 5m 42s\tremaining: 4m 29s\n",
      "2900:\tlearn: 6.5241558\ttest: 9.7378490\tbest: 9.7301285 (2804)\ttotal: 5m 56s\tremaining: 4m 18s\n",
      "3000:\tlearn: 6.5134730\ttest: 9.6166536\tbest: 9.6165427 (2998)\ttotal: 6m 9s\tremaining: 4m 6s\n",
      "3100:\tlearn: 6.5039935\ttest: 9.6183437\tbest: 9.6116597 (3087)\ttotal: 6m 22s\tremaining: 3m 54s\n",
      "3200:\tlearn: 6.4930710\ttest: 9.5970296\tbest: 9.5969538 (3199)\ttotal: 6m 36s\tremaining: 3m 42s\n",
      "3300:\tlearn: 6.4833531\ttest: 9.5886319\tbest: 9.5837980 (3243)\ttotal: 6m 48s\tremaining: 3m 30s\n",
      "3400:\tlearn: 6.4727313\ttest: 9.5822000\tbest: 9.5822000 (3400)\ttotal: 7m 5s\tremaining: 3m 20s\n",
      "3500:\tlearn: 6.4621433\ttest: 9.5722042\tbest: 9.5712079 (3499)\ttotal: 7m 19s\tremaining: 3m 8s\n",
      "3600:\tlearn: 6.4515468\ttest: 9.5700765\tbest: 9.5665724 (3535)\ttotal: 7m 33s\tremaining: 2m 56s\n",
      "3700:\tlearn: 6.4426015\ttest: 9.5783841\tbest: 9.5665724 (3535)\ttotal: 7m 49s\tremaining: 2m 44s\n",
      "3800:\tlearn: 6.4310884\ttest: 9.5263101\tbest: 9.5254837 (3786)\ttotal: 8m 4s\tremaining: 2m 32s\n",
      "3900:\tlearn: 6.4222047\ttest: 9.5022542\tbest: 9.5020688 (3894)\ttotal: 8m 19s\tremaining: 2m 20s\n",
      "4000:\tlearn: 6.4134555\ttest: 9.4839754\tbest: 9.4816920 (3968)\ttotal: 8m 34s\tremaining: 2m 8s\n",
      "4100:\tlearn: 6.4039059\ttest: 9.4787668\tbest: 9.4737393 (4034)\ttotal: 8m 48s\tremaining: 1m 55s\n",
      "4200:\tlearn: 6.3944889\ttest: 9.4673937\tbest: 9.4633047 (4179)\ttotal: 9m 2s\tremaining: 1m 43s\n",
      "4300:\tlearn: 6.3842822\ttest: 9.4603693\tbest: 9.4597360 (4252)\ttotal: 9m 15s\tremaining: 1m 30s\n",
      "4400:\tlearn: 6.3748983\ttest: 9.3859897\tbest: 9.3851994 (4391)\ttotal: 9m 28s\tremaining: 1m 17s\n",
      "4500:\tlearn: 6.3656164\ttest: 9.3845516\tbest: 9.3842867 (4481)\ttotal: 9m 43s\tremaining: 1m 4s\n",
      "4600:\tlearn: 6.3558413\ttest: 9.3737043\tbest: 9.3721923 (4591)\ttotal: 9m 56s\tremaining: 51.8s\n",
      "4700:\tlearn: 6.3470261\ttest: 9.3710748\tbest: 9.3709307 (4698)\ttotal: 10m 9s\tremaining: 38.7s\n",
      "4800:\tlearn: 6.3391116\ttest: 9.3656767\tbest: 9.3646486 (4775)\ttotal: 10m 22s\tremaining: 25.8s\n",
      "4900:\tlearn: 6.3303697\ttest: 9.3583613\tbest: 9.3580911 (4894)\ttotal: 10m 36s\tremaining: 12.9s\n",
      "4999:\tlearn: 6.3222886\ttest: 9.3602794\tbest: 9.3580911 (4894)\ttotal: 10m 48s\tremaining: 0us\n",
      "\n",
      "bestTest = 9.358091076\n",
      "bestIteration = 4894\n",
      "\n",
      "Shrink model to first 4895 iterations.\n",
      "RMSE: 9.358091076422978\n"
     ]
    }
   ],
   "source": [
    "model = CatBoostRegressor(\n",
    "    iterations=5000,learning_rate=0.1,depth=4,loss_function='RMSE',verbose=100,cat_features=categorical_features        \n",
    ")\n",
    "\n",
    "model.fit(X_train, y_train, eval_set=(X_val,y_val))\n",
    "\n",
    "y_pred = model.predict(X_val)\n",
    "\n",
    "rmse = np.sqrt(mean_squared_error(y_val, y_pred))\n",
    "print(f'RMSE: {rmse}')"
   ]
  },
  {
   "cell_type": "code",
   "execution_count": 57,
   "metadata": {},
   "outputs": [],
   "source": [
    "y_predicted = model.predict(X_test)"
   ]
  },
  {
   "cell_type": "code",
   "execution_count": 58,
   "metadata": {},
   "outputs": [],
   "source": [
    "ids = test_df[\"id\"].values"
   ]
  },
  {
   "cell_type": "code",
   "execution_count": 63,
   "metadata": {},
   "outputs": [
    {
     "data": {
      "text/plain": [
       "array([32.26459589, 23.55107845,  9.26022846, ..., 34.87078479,\n",
       "       48.25670238, 29.94296016])"
      ]
     },
     "execution_count": 63,
     "metadata": {},
     "output_type": "execute_result"
    }
   ],
   "source": [
    "y_predicted"
   ]
  },
  {
   "cell_type": "code",
   "execution_count": 64,
   "metadata": {},
   "outputs": [],
   "source": [
    "dataframe = pd.DataFrame({\n",
    "    \"id\" : ids,\n",
    "    \"Degerlendirme Puani\" : np.round(y_predicted)\n",
    "})"
   ]
  },
  {
   "cell_type": "code",
   "execution_count": 65,
   "metadata": {},
   "outputs": [
    {
     "data": {
      "text/plain": [
       "id                     11048.0\n",
       "Degerlendirme Puani       69.0\n",
       "dtype: float64"
      ]
     },
     "execution_count": 65,
     "metadata": {},
     "output_type": "execute_result"
    }
   ],
   "source": [
    "dataframe.max()"
   ]
  },
  {
   "cell_type": "code",
   "execution_count": 66,
   "metadata": {},
   "outputs": [],
   "source": [
    "dataframe.to_csv(\"submission.csv\", index = False)"
   ]
  }
 ],
 "metadata": {
  "kernelspec": {
   "display_name": "Python 3",
   "language": "python",
   "name": "python3"
  },
  "language_info": {
   "codemirror_mode": {
    "name": "ipython",
    "version": 3
   },
   "file_extension": ".py",
   "mimetype": "text/x-python",
   "name": "python",
   "nbconvert_exporter": "python",
   "pygments_lexer": "ipython3",
   "version": "3.12.3"
  }
 },
 "nbformat": 4,
 "nbformat_minor": 2
}
