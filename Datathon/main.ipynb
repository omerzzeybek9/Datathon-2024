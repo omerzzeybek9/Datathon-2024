{
 "cells": [
  {
   "cell_type": "code",
   "execution_count": 2,
   "metadata": {},
   "outputs": [],
   "source": [
    "import pandas as pd"
   ]
  },
  {
   "cell_type": "code",
   "execution_count": 3,
   "metadata": {},
   "outputs": [
    {
     "name": "stderr",
     "output_type": "stream",
     "text": [
      "C:\\Users\\omerf\\AppData\\Local\\Temp\\ipykernel_8836\\457307528.py:1: DtypeWarning: Columns (13,15,19,30,32,37,41,42) have mixed types. Specify dtype option on import or set low_memory=False.\n",
      "  data = pd.read_csv(\"train.csv\")\n"
     ]
    }
   ],
   "source": [
    "data = pd.read_csv(\"train.csv\")"
   ]
  },
  {
   "cell_type": "code",
   "execution_count": 4,
   "metadata": {},
   "outputs": [
    {
     "data": {
      "text/plain": [
       "Index(['Basvuru Yili', 'Degerlendirme Puani', 'Cinsiyet', 'Dogum Tarihi',\n",
       "       'Dogum Yeri', 'Ikametgah Sehri', 'Universite Adi', 'Universite Turu',\n",
       "       'Burslu ise Burs Yuzdesi', 'Burs Aliyor mu?', 'Bölüm',\n",
       "       'Universite Kacinci Sinif', 'Universite Not Ortalamasi',\n",
       "       'Daha Once Baska Bir Universiteden Mezun Olmus', 'Lise Adi',\n",
       "       'Lise Adi Diger', 'Lise Sehir', 'Lise Turu', 'Lise Bolumu',\n",
       "       'Lise Bolum Diger', 'Lise Mezuniyet Notu',\n",
       "       'Baska Bir Kurumdan Burs Aliyor mu?', 'Burs Aldigi Baska Kurum',\n",
       "       'Baska Kurumdan Aldigi Burs Miktari', 'Anne Egitim Durumu',\n",
       "       'Anne Calisma Durumu', 'Anne Sektor', 'Baba Egitim Durumu',\n",
       "       'Baba Calisma Durumu', 'Baba Sektor', 'Kardes Sayisi',\n",
       "       'Girisimcilik Kulupleri Tarzi Bir Kulube Uye misiniz?',\n",
       "       'Uye Oldugunuz Kulubun Ismi',\n",
       "       'Profesyonel Bir Spor Daliyla Mesgul musunuz?',\n",
       "       'Spor Dalindaki Rolunuz Nedir?', 'Aktif olarak bir STK üyesi misiniz?',\n",
       "       'Hangi STK'nin Uyesisiniz?', 'Stk Projesine Katildiniz Mi?',\n",
       "       'Girisimcilikle Ilgili Deneyiminiz Var Mi?',\n",
       "       'Girisimcilikle Ilgili Deneyiminizi Aciklayabilir misiniz?',\n",
       "       'Ingilizce Biliyor musunuz?', 'Ingilizce Seviyeniz?',\n",
       "       'Daha Önceden Mezun Olunduysa, Mezun Olunan Üniversite', 'id'],\n",
       "      dtype='object')"
      ]
     },
     "execution_count": 4,
     "metadata": {},
     "output_type": "execute_result"
    }
   ],
   "source": [
    "data.columns"
   ]
  },
  {
   "cell_type": "code",
   "execution_count": 5,
   "metadata": {},
   "outputs": [
    {
     "data": {
      "text/plain": [
       "0            0\n",
       "1            1\n",
       "2            2\n",
       "3            3\n",
       "4            4\n",
       "         ...  \n",
       "65120    65120\n",
       "65121    65121\n",
       "65122    65122\n",
       "65123    65123\n",
       "65124    65124\n",
       "Name: id, Length: 65125, dtype: int64"
      ]
     },
     "execution_count": 5,
     "metadata": {},
     "output_type": "execute_result"
    }
   ],
   "source": [
    "data[\"id\"]"
   ]
  },
  {
   "cell_type": "code",
   "execution_count": null,
   "metadata": {},
   "outputs": [],
   "source": [
    "data.isna().sum()"
   ]
  },
  {
   "cell_type": "code",
   "execution_count": 7,
   "metadata": {},
   "outputs": [],
   "source": [
    "test = pd.read_csv(\"test_x.csv\")"
   ]
  },
  {
   "cell_type": "code",
   "execution_count": 10,
   "metadata": {},
   "outputs": [
    {
     "data": {
      "text/plain": [
       "Basvuru Yili                                                     0\n",
       "Cinsiyet                                                         0\n",
       "Dogum Tarihi                                                     0\n",
       "Dogum Yeri                                                       0\n",
       "Ikametgah Sehri                                                  0\n",
       "Universite Adi                                                   0\n",
       "Universite Turu                                                  0\n",
       "Burslu ise Burs Yuzdesi                                      11049\n",
       "Burs Aliyor mu?                                                  0\n",
       "Bölüm                                                            0\n",
       "Universite Kacinci Sinif                                         0\n",
       "Universite Not Ortalamasi                                        0\n",
       "Daha Once Baska Bir Universiteden Mezun Olmus                11049\n",
       "Lise Adi                                                         0\n",
       "Lise Adi Diger                                               11049\n",
       "Lise Sehir                                                       0\n",
       "Lise Turu                                                        0\n",
       "Lise Bolumu                                                      0\n",
       "Lise Bolum Diger                                             11049\n",
       "Lise Mezuniyet Notu                                              0\n",
       "Baska Bir Kurumdan Burs Aliyor mu?                               0\n",
       "Burs Aldigi Baska Kurum                                          0\n",
       "Baska Kurumdan Aldigi Burs Miktari                               0\n",
       "Anne Egitim Durumu                                               0\n",
       "Anne Calisma Durumu                                              0\n",
       "Anne Sektor                                                      0\n",
       "Baba Egitim Durumu                                               0\n",
       "Baba Calisma Durumu                                              0\n",
       "Baba Sektor                                                      0\n",
       "Kardes Sayisi                                                    0\n",
       "Girisimcilik Kulupleri Tarzi Bir Kulube Uye misiniz?             0\n",
       "Uye Oldugunuz Kulubun Ismi                                   11049\n",
       "Profesyonel Bir Spor Daliyla Mesgul musunuz?                     0\n",
       "Spor Dalindaki Rolunuz Nedir?                                    0\n",
       "Aktif olarak bir STK üyesi misiniz?                              0\n",
       "Hangi STK'nin Uyesisiniz?                                        0\n",
       "Stk Projesine Katildiniz Mi?                                 11049\n",
       "Girisimcilikle Ilgili Deneyiminiz Var Mi?                        0\n",
       "Girisimcilikle Ilgili Deneyiminizi Aciklayabilir misiniz?        0\n",
       "Ingilizce Biliyor musunuz?                                       0\n",
       "Ingilizce Seviyeniz?                                         11049\n",
       "Daha Önceden Mezun Olunduysa, Mezun Olunan Üniversite        11049\n",
       "id                                                               0\n",
       "dtype: int64"
      ]
     },
     "execution_count": 10,
     "metadata": {},
     "output_type": "execute_result"
    }
   ],
   "source": [
    "test.isna().sum()"
   ]
  }
 ],
 "metadata": {
  "kernelspec": {
   "display_name": "base",
   "language": "python",
   "name": "python3"
  },
  "language_info": {
   "codemirror_mode": {
    "name": "ipython",
    "version": 3
   },
   "file_extension": ".py",
   "mimetype": "text/x-python",
   "name": "python",
   "nbconvert_exporter": "python",
   "pygments_lexer": "ipython3",
   "version": "3.12.4"
  }
 },
 "nbformat": 4,
 "nbformat_minor": 2
}
